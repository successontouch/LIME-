{
 "cells": [
  {
   "cell_type": "markdown",
   "metadata": {},
   "source": [
    "# LIME 모델을 이용한 네이버 영화 리뷰 감정분석 \n"
   ]
  },
  {
   "cell_type": "markdown",
   "metadata": {},
   "source": [
    "![title](img/pic1.png)"
   ]
  },
  {
   "cell_type": "markdown",
   "metadata": {},
   "source": [
    "### 설치"
   ]
  },
  {
   "cell_type": "code",
   "execution_count": 6,
   "metadata": {
    "scrolled": true
   },
   "outputs": [
    {
     "name": "stdout",
     "output_type": "stream",
     "text": [
      "Collecting lime\n",
      "  Downloading https://files.pythonhosted.org/packages/f5/86/91a13127d83d793ecb50eb75e716f76e6eda809b6803c5a4ff462339789e/lime-0.2.0.1.tar.gz (275kB)\n",
      "Requirement already satisfied: matplotlib in c:\\programdata\\anaconda3\\lib\\site-packages (from lime) (3.0.3)\n",
      "Requirement already satisfied: numpy in c:\\programdata\\anaconda3\\lib\\site-packages (from lime) (1.16.2)\n",
      "Requirement already satisfied: scipy in c:\\programdata\\anaconda3\\lib\\site-packages (from lime) (1.2.1)\n",
      "Requirement already satisfied: tqdm in c:\\programdata\\anaconda3\\lib\\site-packages (from lime) (4.31.1)\n",
      "Requirement already satisfied: scikit-learn>=0.18 in c:\\programdata\\anaconda3\\lib\\site-packages (from lime) (0.23.2)\n",
      "Requirement already satisfied: scikit-image>=0.12 in c:\\programdata\\anaconda3\\lib\\site-packages (from lime) (0.14.2)\n",
      "Requirement already satisfied: cycler>=0.10 in c:\\programdata\\anaconda3\\lib\\site-packages (from matplotlib->lime) (0.10.0)\n",
      "Requirement already satisfied: kiwisolver>=1.0.1 in c:\\programdata\\anaconda3\\lib\\site-packages (from matplotlib->lime) (1.0.1)\n",
      "Requirement already satisfied: pyparsing!=2.0.4,!=2.1.2,!=2.1.6,>=2.0.1 in c:\\programdata\\anaconda3\\lib\\site-packages (from matplotlib->lime) (2.3.1)\n",
      "Requirement already satisfied: python-dateutil>=2.1 in c:\\programdata\\anaconda3\\lib\\site-packages (from matplotlib->lime) (2.8.0)\n",
      "Requirement already satisfied: threadpoolctl>=2.0.0 in c:\\programdata\\anaconda3\\lib\\site-packages (from scikit-learn>=0.18->lime) (2.1.0)\n",
      "Requirement already satisfied: joblib>=0.11 in c:\\programdata\\anaconda3\\lib\\site-packages (from scikit-learn>=0.18->lime) (0.16.0)\n",
      "Requirement already satisfied: networkx>=1.8 in c:\\programdata\\anaconda3\\lib\\site-packages (from scikit-image>=0.12->lime) (2.2)\n",
      "Requirement already satisfied: six>=1.10.0 in c:\\programdata\\anaconda3\\lib\\site-packages (from scikit-image>=0.12->lime) (1.12.0)\n",
      "Requirement already satisfied: pillow>=4.3.0 in c:\\programdata\\anaconda3\\lib\\site-packages (from scikit-image>=0.12->lime) (5.4.1)\n",
      "Requirement already satisfied: PyWavelets>=0.4.0 in c:\\programdata\\anaconda3\\lib\\site-packages (from scikit-image>=0.12->lime) (1.0.2)\n",
      "Requirement already satisfied: dask[array]>=1.0.0 in c:\\programdata\\anaconda3\\lib\\site-packages (from scikit-image>=0.12->lime) (1.1.4)\n",
      "Requirement already satisfied: cloudpickle>=0.2.1 in c:\\programdata\\anaconda3\\lib\\site-packages (from scikit-image>=0.12->lime) (0.8.0)\n",
      "Requirement already satisfied: setuptools in c:\\programdata\\anaconda3\\lib\\site-packages (from kiwisolver>=1.0.1->matplotlib->lime) (40.8.0)\n",
      "Requirement already satisfied: decorator>=4.3.0 in c:\\programdata\\anaconda3\\lib\\site-packages (from networkx>=1.8->scikit-image>=0.12->lime) (4.4.0)\n",
      "Requirement already satisfied: toolz>=0.7.3; extra == \"array\" in c:\\programdata\\anaconda3\\lib\\site-packages (from dask[array]>=1.0.0->scikit-image>=0.12->lime) (0.9.0)\n",
      "Building wheels for collected packages: lime\n",
      "  Building wheel for lime (setup.py): started\n",
      "  Building wheel for lime (setup.py): finished with status 'done'\n",
      "  Stored in directory: C:\\Users\\KIMMINKYU\\AppData\\Local\\pip\\Cache\\wheels\\4c\\4f\\a5\\0bc765457bd41378bf3ce8d17d7495369d6e7ca3b712c60c89\n",
      "Successfully built lime\n",
      "Installing collected packages: lime\n",
      "Successfully installed lime-0.2.0.1\n",
      "Note: you may need to restart the kernel to use updated packages.\n"
     ]
    }
   ],
   "source": [
    "pip install lime"
   ]
  },
  {
   "cell_type": "code",
   "execution_count": 9,
   "metadata": {},
   "outputs": [
    {
     "data": {
      "text/plain": [
       "'C:\\\\Users\\\\KIMMINKYU\\\\Desktop\\\\20Summer-Data-Scientist-Program\\\\project'"
      ]
     },
     "execution_count": 9,
     "metadata": {},
     "output_type": "execute_result"
    }
   ],
   "source": [
    "import os\n",
    "#os.chdir('C:\\\\Users\\\\KIMMINKYU\\\\Desktop\\\\20Summer-Data-Scientist-Program\\\\project')\n",
    "# 사실 모듈 import뿐만 아니라, 경로 설정 등은 한 번만 해줘도 되는 작업이지만, \n",
    "# 특정 셀만 실행하는 것이 가능하도록 모든 셀에 경로 설정, 데이터 불러오기 등을 포함시킴 \n",
    "os.getcwd()"
   ]
  },
  {
   "cell_type": "code",
   "execution_count": 1,
   "metadata": {},
   "outputs": [
    {
     "data": {
      "text/plain": [
       "Index(['id', 'document', 'label', 'Unnamed: 3', 'Unnamed: 4', 'Unnamed: 5'], dtype='object')"
      ]
     },
     "execution_count": 1,
     "metadata": {},
     "output_type": "execute_result"
    }
   ],
   "source": [
    "import pandas as pd\n",
    "\n",
    "rating_train_model = pd.read_excel('ratings_train.xlsx', encoding = 'cp949')\n",
    "\n",
    "rating_train_model.columns"
   ]
  },
  {
   "cell_type": "code",
   "execution_count": 2,
   "metadata": {},
   "outputs": [],
   "source": [
    "X_train = rating_train_model.document\n",
    "Y_train = rating_train_model.label"
   ]
  },
  {
   "cell_type": "code",
   "execution_count": 3,
   "metadata": {
    "scrolled": false
   },
   "outputs": [
    {
     "name": "stdout",
     "output_type": "stream",
     "text": [
      "0                                  아 더빙.. 진짜 짜증나네요 목소리\n",
      "1                    흠...포스터보고 초딩영화줄....오버연기조차 가볍지 않구나\n",
      "2                                    너무재밓었다그래서보는것을추천한다\n",
      "3                        교도소 이야기구먼 ..솔직히 재미는 없다..평점 조정\n",
      "4    사이몬페그의 익살스런 연기가 돋보였던 영화!스파이더맨에서 늙어보이기만 했던 커스틴 ...\n",
      "Name: document, dtype: object 0    0\n",
      "1    1\n",
      "2    0\n",
      "3    0\n",
      "4    1\n",
      "Name: label, dtype: object\n"
     ]
    }
   ],
   "source": [
    "print(X_train.head(), Y_train.head())"
   ]
  },
  {
   "cell_type": "markdown",
   "metadata": {},
   "source": [
    "###  전처리 과정"
   ]
  },
  {
   "cell_type": "code",
   "execution_count": 4,
   "metadata": {},
   "outputs": [],
   "source": [
    "# 문자열을 숫자형으로 str -> int, 결측값\n",
    "Y_train = Y_train.apply(pd.to_numeric, errors = 0).fillna(0)"
   ]
  },
  {
   "cell_type": "code",
   "execution_count": 5,
   "metadata": {},
   "outputs": [
    {
     "data": {
      "text/plain": [
       "36"
      ]
     },
     "execution_count": 5,
     "metadata": {},
     "output_type": "execute_result"
    }
   ],
   "source": [
    "# null 처리된 것 갯수 \n",
    "X_train.isnull().sum()"
   ]
  },
  {
   "cell_type": "code",
   "execution_count": 6,
   "metadata": {},
   "outputs": [
    {
     "data": {
      "text/plain": [
       "0"
      ]
     },
     "execution_count": 6,
     "metadata": {},
     "output_type": "execute_result"
    }
   ],
   "source": [
    "# null 전처리한 후 갯수\n",
    "X_train = X_train.fillna(0)\n",
    "X_train = X_train.dropna(axis=0)\n",
    "X_train.isnull().sum()"
   ]
  },
  {
   "cell_type": "code",
   "execution_count": null,
   "metadata": {},
   "outputs": [],
   "source": []
  },
  {
   "cell_type": "code",
   "execution_count": 7,
   "metadata": {},
   "outputs": [],
   "source": [
    "# text 전처리같은 경우 강제 형변환\n",
    "def text_process(text):\n",
    "    if type(text) != str:\n",
    "        text = str(text)\n",
    "        return text\n",
    "    else:\n",
    "        return text\n",
    "    \n",
    "def star_process(text):\n",
    "    if type(text) != int:\n",
    "        text = int(text)\n",
    "        return text"
   ]
  },
  {
   "cell_type": "code",
   "execution_count": 8,
   "metadata": {},
   "outputs": [],
   "source": [
    "X_train = X_train.apply(text_process)\n",
    "Y_train = Y_train.apply(star_process)"
   ]
  },
  {
   "cell_type": "code",
   "execution_count": null,
   "metadata": {},
   "outputs": [
    {
     "data": {
      "text/plain": [
       "0                                       아 더빙.. 진짜 짜증나네요 목소리\n",
       "1                         흠...포스터보고 초딩영화줄....오버연기조차 가볍지 않구나\n",
       "2                                         너무재밓었다그래서보는것을추천한다\n",
       "3                             교도소 이야기구먼 ..솔직히 재미는 없다..평점 조정\n",
       "4         사이몬페그의 익살스런 연기가 돋보였던 영화!스파이더맨에서 늙어보이기만 했던 커스틴 ...\n",
       "5             막 걸음마 뗀 3세부터 초등학교 1학년생인 8살용영화.ㅋㅋㅋ...별반개도 아까움.\n",
       "6                                     원작의 긴장감을 제대로 살려내지못했다.\n",
       "7         별 반개도 아깝다 욕나온다 이응경 길용우 연기생활이몇년인지..정말 발로해도 그것보단...\n",
       "8                                    액션이 없는데도 재미 있는 몇안되는 영화\n",
       "9             왜케 평점이 낮은건데? 꽤 볼만한데.. 헐리우드식 화려함에만 너무 길들여져 있나?\n",
       "10                                         걍인피니트가짱이다.진짜짱이다♥\n",
       "11              볼때마다 눈물나서 죽겠다90년대의 향수자극!!허진호는 감성절제멜로의 달인이다~\n",
       "12                      울면서 손들고 횡단보도 건널때 뛰쳐나올뻔 이범수 연기 드럽게못해\n",
       "13        담백하고 깔끔해서 좋다. 신문기사로만 보다 보면 자꾸 잊어버린다. 그들도 사람이었다...\n",
       "14        취향은 존중한다지만 진짜 내생에 극장에서 본 영화중 가장 노잼 노감동임 스토리도 어...\n",
       "15                                         ㄱ냥 매번 긴장되고 재밋음ㅠㅠ\n",
       "16        참 사람들 웃긴게 바스코가 이기면 락스코라고 까고바비가 이기면 아이돌이라고 깐다.그...\n",
       "17                       굿바이 레닌 표절인것은 이해하는데 왜 뒤로 갈수록 재미없어지냐\n",
       "18            이건 정말 깨알 캐스팅과 질퍽하지않은 산뜻한 내용구성이 잘 버무러진 깨알일드!!♥\n",
       "19                       약탈자를 위한 변명, 이라. 저놈들은 착한놈들 절대 아닌걸요.\n",
       "20                나름 심오한 뜻도 있는 듯. 그냥 학생이 선생과 놀아나는 영화는 절대 아님\n",
       "21                                        보면서 웃지 않는 건 불가능하다\n",
       "22        재미없다 지루하고. 같은 음식 영화인데도 바베트의 만찬하고 넘 차이남....바베트의...\n",
       "23                             절대 평범한 영화가 아닌 수작이라는걸 말씀드립니다.\n",
       "24                                        주제는 좋은데 중반부터 지루하다\n",
       "25             다 짤랐을꺼야. 그래서 납득할 수 없었던거야.. 그럴꺼야.. 꼭 그랬던걸꺼야..\n",
       "26                                       kl2g 고추를 털어버려야 할텐데\n",
       "27                                                 카밀라벨 발연기\n",
       "28                                                     재밋는뎅\n",
       "29                   센스있는 연출력..탁월한 캐스팅..90년대의 향수.. 그래서 9점..\n",
       "                                ...                        \n",
       "199970    당신의 꿈은 지금 안녕하신가요... 유쾌하고 감동적이고 꿈을 잊고 사는 현대인들이 ...\n",
       "199971                                       정의라는 단어는 사라졌다.\n",
       "199972                            참 니네들도 기자냐? 참 부끄럽다.. 진심으로\n",
       "199973    영화 초반 존쿠삭이 바네사 허진스 가두고 LP로 틀던 팝송 정말 좋던데 아시는분 제...\n",
       "199974    그래서 하고 싶은 말이 뭔데..?? . 연출만 잘했더라면 훨씬 더 흥미로웠을텐데. ...\n",
       "199975                            내용도 어설프고 연기도 별로고 아저씨 싸움,,\n",
       "199976                                          스토리가..OOO..\n",
       "199977                            8점 후반은 넘 높다. 엠버허드 땜어 2점준다\n",
       "199978                                              amazing\n",
       "199979     포스터부터 구리다. 좀비 분장을 시키려면 제대로 시키든가. 진짜 질 떨어지네.노답 어휴\n",
       "199980    영화판의 역사를 알게 되어서 너무 신선했습니다.감독님gv너무 재밌습니다.영화판 화이...\n",
       "199981    보는내내 전편의 추억들이 새록새록 떠오른다. 전체적인 내용은 해리포터 불의 잔과 비...\n",
       "199982                     한국으로치면 롯데광팬의 사랑이야기 (야구장함께갈사람없음ㅠ)\n",
       "199983                                    윤발형님 왜 이런 영화를....\n",
       "199984      불륜의 다리가 된영화... 영화자체는 재미있긴 하지만 좀 슬프네요 더럽고.......\n",
       "199985                                   누워서 보다가 앉아서 보게 됨ㅋㅋ\n",
       "199986                                        이 세상에 정의란 없다.\n",
       "199987                                               개재미있으3\n",
       "199988                                              존래 재미없네\n",
       "199989        목소리 보이지는 않지만 이건 아니다 싶다 너무 어색하고 모든 면에서 독창성이 없다\n",
       "199990                                제발 국뽕김치영화좀 그만 만들어라...\n",
       "199991                                       재밌는데....?평점이왜?\n",
       "199992                   내일 토요일밤 MBC에서 영화 해준다.... 봐야지... 기대\n",
       "199993               액션영화로 기대하지말고 스릴러영화라 생각하고 보면 괜찮은 영화인듯^^\n",
       "199994                                          정말 너무 재밌음 ㅋ\n",
       "199995            오랜만에 평점 로긴했네ㅋㅋ 킹왕짱 쌈뽕한 영화를 만났습니다 강렬하게 육쾌함\n",
       "199996         의지 박약들이나 하는거다 탈영은 일단 주인공 김대희 닮았고 이등병 찐따 OOOO\n",
       "199997                   그림도 좋고 완성도도 높았지만... 보는 내내 불안하게 만든다\n",
       "199998       절대 봐서는 안 될 영화.. 재미도 없고 기분만 잡치고.. 한 세트장에서 다 해먹네\n",
       "199999                                           마무리는 또 왜이래\n",
       "Name: document, Length: 200000, dtype: object"
      ]
     },
     "execution_count": 9,
     "metadata": {},
     "output_type": "execute_result"
    }
   ],
   "source": [
    "X_train"
   ]
  },
  {
   "cell_type": "code",
   "execution_count": null,
   "metadata": {},
   "outputs": [
    {
     "data": {
      "text/plain": [
       "0         0\n",
       "1         1\n",
       "2         0\n",
       "3         0\n",
       "4         1\n",
       "5         0\n",
       "6         0\n",
       "7         0\n",
       "8         1\n",
       "9         1\n",
       "10        1\n",
       "11        1\n",
       "12        0\n",
       "13        1\n",
       "14        0\n",
       "15        1\n",
       "16        1\n",
       "17        0\n",
       "18        1\n",
       "19        1\n",
       "20        1\n",
       "21        1\n",
       "22        0\n",
       "23        1\n",
       "24        0\n",
       "25        0\n",
       "26        1\n",
       "27        0\n",
       "28        1\n",
       "29        1\n",
       "         ..\n",
       "199970    1\n",
       "199971    1\n",
       "199972    0\n",
       "199973    0\n",
       "199974    0\n",
       "199975    0\n",
       "199976    0\n",
       "199977    0\n",
       "199978    1\n",
       "199979    0\n",
       "199980    1\n",
       "199981    1\n",
       "199982    1\n",
       "199983    0\n",
       "199984    0\n",
       "199985    1\n",
       "199986    1\n",
       "199987    1\n",
       "199988    0\n",
       "199989    0\n",
       "199990    0\n",
       "199991    1\n",
       "199992    1\n",
       "199993    1\n",
       "199994    1\n",
       "199995    1\n",
       "199996    0\n",
       "199997    0\n",
       "199998    0\n",
       "199999    0\n",
       "Name: label, Length: 200000, dtype: int64"
      ]
     },
     "execution_count": 10,
     "metadata": {},
     "output_type": "execute_result"
    }
   ],
   "source": [
    "Y_train"
   ]
  },
  {
   "cell_type": "markdown",
   "metadata": {},
   "source": [
    "### Labeling 분포"
   ]
  },
  {
   "cell_type": "code",
   "execution_count": null,
   "metadata": {},
   "outputs": [
    {
     "data": {
      "text/plain": [
       "(array([100005.,      0.,      0.,  99995.]),\n",
       " array([0.  , 0.25, 0.5 , 0.75, 1.  ]),\n",
       " <a list of 4 Patch objects>)"
      ]
     },
     "execution_count": 11,
     "metadata": {},
     "output_type": "execute_result"
    }
   ],
   "source": [
    "from matplotlib import pyplot as plt\n",
    "\n",
    "plt.hist(Y_train, bins = 4)"
   ]
  },
  {
   "cell_type": "markdown",
   "metadata": {},
   "source": [
    "### Explainer 생성"
   ]
  },
  {
   "cell_type": "code",
   "execution_count": 100,
   "metadata": {},
   "outputs": [
    {
     "name": "stdout",
     "output_type": "stream",
     "text": [
      "Requirement already satisfied: konlpy in c:\\programdata\\anaconda3\\lib\\site-packages (0.5.2)\n",
      "Requirement already satisfied: colorama in c:\\programdata\\anaconda3\\lib\\site-packages (from konlpy) (0.4.1)\n",
      "Requirement already satisfied: beautifulsoup4==4.6.0 in c:\\programdata\\anaconda3\\lib\\site-packages (from konlpy) (4.6.0)\n",
      "Requirement already satisfied: tweepy>=3.7.0 in c:\\programdata\\anaconda3\\lib\\site-packages (from konlpy) (3.9.0)\n",
      "Requirement already satisfied: JPype1>=0.7.0 in c:\\programdata\\anaconda3\\lib\\site-packages (from konlpy) (1.0.2)\n",
      "Requirement already satisfied: numpy>=1.6 in c:\\programdata\\anaconda3\\lib\\site-packages (from konlpy) (1.16.2)\n",
      "Requirement already satisfied: lxml>=4.1.0 in c:\\programdata\\anaconda3\\lib\\site-packages (from konlpy) (4.3.2)\n",
      "Requirement already satisfied: requests[socks]>=2.11.1 in c:\\programdata\\anaconda3\\lib\\site-packages (from tweepy>=3.7.0->konlpy) (2.21.0)\n",
      "Requirement already satisfied: six>=1.10.0 in c:\\programdata\\anaconda3\\lib\\site-packages (from tweepy>=3.7.0->konlpy) (1.12.0)\n",
      "Requirement already satisfied: requests-oauthlib>=0.7.0 in c:\\programdata\\anaconda3\\lib\\site-packages (from tweepy>=3.7.0->konlpy) (1.3.0)\n",
      "Requirement already satisfied: typing-extensions; python_version < \"3.8\" in c:\\programdata\\anaconda3\\lib\\site-packages (from JPype1>=0.7.0->konlpy) (3.7.4.3)\n",
      "Requirement already satisfied: chardet<3.1.0,>=3.0.2 in c:\\programdata\\anaconda3\\lib\\site-packages (from requests[socks]>=2.11.1->tweepy>=3.7.0->konlpy) (3.0.4)\n",
      "Requirement already satisfied: idna<2.9,>=2.5 in c:\\programdata\\anaconda3\\lib\\site-packages (from requests[socks]>=2.11.1->tweepy>=3.7.0->konlpy) (2.8)\n",
      "Requirement already satisfied: urllib3<1.25,>=1.21.1 in c:\\programdata\\anaconda3\\lib\\site-packages (from requests[socks]>=2.11.1->tweepy>=3.7.0->konlpy) (1.24.1)\n",
      "Requirement already satisfied: certifi>=2017.4.17 in c:\\programdata\\anaconda3\\lib\\site-packages (from requests[socks]>=2.11.1->tweepy>=3.7.0->konlpy) (2020.6.20)\n",
      "Requirement already satisfied: PySocks!=1.5.7,>=1.5.6; extra == \"socks\" in c:\\programdata\\anaconda3\\lib\\site-packages (from requests[socks]>=2.11.1->tweepy>=3.7.0->konlpy) (1.6.8)\n",
      "Requirement already satisfied: oauthlib>=3.0.0 in c:\\programdata\\anaconda3\\lib\\site-packages (from requests-oauthlib>=0.7.0->tweepy>=3.7.0->konlpy) (3.1.0)\n",
      "Note: you may need to restart the kernel to use updated packages.\n"
     ]
    }
   ],
   "source": [
    "pip install konlpy"
   ]
  },
  {
   "cell_type": "markdown",
   "metadata": {},
   "source": [
    "### 기존 TfidVector화 과정"
   ]
  },
  {
   "cell_type": "code",
   "execution_count": null,
   "metadata": {},
   "outputs": [],
   "source": [
    "from lime.lime_text import LimeTextExplainer\n",
    "import sklearn\n",
    "import sklearn.metrics\n",
    "import sklearn.ensemble\n",
    "from sklearn.feature_extraction.text import TfidfVectorizer"
   ]
  },
  {
   "cell_type": "code",
   "execution_count": 15,
   "metadata": {},
   "outputs": [],
   "source": [
    "vectorizer = TfidfVectorizer()\n",
    "train_vectors = vectorizer.fit_transform(X_train)"
   ]
  },
  {
   "cell_type": "code",
   "execution_count": 164,
   "metadata": {
    "scrolled": true
   },
   "outputs": [
    {
     "data": {
      "text/plain": [
       "<1x293334 sparse matrix of type '<class 'numpy.float64'>'\n",
       "\twith 4 stored elements in Compressed Sparse Row format>"
      ]
     },
     "execution_count": 164,
     "metadata": {},
     "output_type": "execute_result"
    }
   ],
   "source": [
    "train_vectors[0]"
   ]
  },
  {
   "cell_type": "markdown",
   "metadata": {},
   "source": [
    "## 말뭉치를 이용한 한국어 용언 분석기 (Korean Lemmatizer) KoNLPy"
   ]
  },
  {
   "cell_type": "markdown",
   "metadata": {},
   "source": [
    "#### 네이버 영화 데이터에는 맞춤법이나 띄어쓰기가 제대로 되어있지 않은 경우가 있기 때문에 정확한 분류를 위해서 KoNLPy를 이용하였습니다.\n",
    "\n",
    "#### KoNLPy는 띄어쓰기 알고리즘과 정규화를 이용해서 맞춤법이 틀린 문장도 어느 정도 고쳐주면서 형태소 분석과 품사를 태깅해주는 여러 클래스를 제공합니다.\n"
   ]
  },
  {
   "cell_type": "code",
   "execution_count": null,
   "metadata": {},
   "outputs": [],
   "source": [
    "import konlpy\n",
    "from konlpy.tag import *\n",
    "\n",
    "#형태소분석\n",
    "#okt= open korean text, morphs도 형태소를 분석할 수 있게 하는 함수\n",
    "\n",
    "def tokenizer(text):\n",
    "    okt = Okt()\n",
    "    return okt.morphs(text)"
   ]
  },
  {
   "cell_type": "code",
   "execution_count": null,
   "metadata": {},
   "outputs": [],
   "source": [
    "vectorizer = TfidfVectorizer(min_df=10,tokenizer = tokenizer,lowercase=False)\n",
    "train_vectors = vectorizer.fit_transform(X_train)"
   ]
  },
  {
   "cell_type": "code",
   "execution_count": null,
   "metadata": {
    "scrolled": true
   },
   "outputs": [],
   "source": [
    "train_vectors[0]"
   ]
  },
  {
   "cell_type": "code",
   "execution_count": null,
   "metadata": {},
   "outputs": [],
   "source": [
    "from sklearn.naive_bayes import MultinomialNB\n",
    "\n",
    "#학습모델\n",
    "clf = MultinomialNB()\n",
    "clf.fit(train_vectors,Y_train)"
   ]
  },
  {
   "cell_type": "markdown",
   "metadata": {},
   "source": [
    "### 학습 정확도 확인"
   ]
  },
  {
   "cell_type": "code",
   "execution_count": null,
   "metadata": {
    "scrolled": false
   },
   "outputs": [],
   "source": [
    "pred = clf.predict(train_vectors)\n",
    "\n",
    "print(\"정확도 :\" , sklearn.metrics.accuracy_score(Y_train, pred))\n",
    "print(\"혼돈 매트릭스: \\n\", sklearn.metrics.confusion_matrix(Y_train, pred, normalize='pred'))"
   ]
  },
  {
   "cell_type": "code",
   "execution_count": null,
   "metadata": {},
   "outputs": [],
   "source": [
    "def get_text_by_y_pred(y, p):\n",
    "  return [i for i in range(train_vectors.shape[0]) if Y_train[i] == y and pred[i] == p]\n",
    "\n",
    "# 혼돈 매트릭스에 각 원소에 해당하는 훈련값들의 인덱스를 가져옵니다.\n",
    "#긍정적 문장인데 긍정적 문장으로 분류(tp), 부정적 문장인데 긍정적 문장으로 분류(fn)\n",
    "#부정적 문장인데 긍정적 문장으로 분류(fp), 부정적 문장인데 부정적 문장으로 분류(tn)\n",
    "\n",
    "tp = get_text_by_y_pred(0, 0)\n",
    "fn = get_text_by_y_pred(0, 1)\n",
    "fp = get_text_by_y_pred(1, 0)\n",
    "tn = get_text_by_y_pred(1, 1)"
   ]
  },
  {
   "cell_type": "code",
   "execution_count": null,
   "metadata": {},
   "outputs": [],
   "source": [
    "from sklearn.pipeline import make_pipeline\n",
    "from lime.lime_text import LimeTextExplainer\n",
    "\n",
    "def predict_pipe(x):\n",
    "  x = vectorizer.transform(x)\n",
    "  x = clf.predict(x)\n",
    "  return x\n",
    "\n",
    "# i 번째 훈련 데이터를 Lime으로 분석해서 노트북에 표시합니다.\n",
    "def explain(i, text=None, cls=None):\n",
    "  if not text and not cls:\n",
    "    text, cls = X_train[i], Y_train[i]\n",
    "\n",
    "  class_names=[\"Normal\", \"Minus\"]\n",
    "  \n",
    "  # Lime 분석\n",
    "  pipe = make_pipeline(vectorizer, clf)\n",
    "  explainer = LimeTextExplainer(class_names=class_names)\n",
    "  exp = explainer.explain_instance(text, pipe.predict_proba)\n",
    "\n",
    "  # 분류기로 예측한 결과 표시\n",
    "  pred = clf.predict(vectorizer.transform([text])[0])\n",
    "  pred = \"Minus\" if(pred == 1) else \"Normal\"\n",
    "  cls = \"Minus\" if(cls == 1) else \"Normal\"\n",
    "  \n",
    "  print()\n",
    "  print(f\"#{i} Predict: {pred} Real: {cls}\")\n",
    "  \n",
    "  # 노트북에 표시\n",
    "  exp.show_in_notebook(text=text)\n",
    "  print()"
   ]
  },
  {
   "cell_type": "markdown",
   "metadata": {},
   "source": [
    "# 학습된 결과"
   ]
  },
  {
   "cell_type": "code",
   "execution_count": null,
   "metadata": {
    "scrolled": true
   },
   "outputs": [],
   "source": [
    "import numpy as np\n",
    "for i in np.random.choice(fn, 10):\n",
    "# for i in [51115, 152131, 155475, 90658, 114588]:\n",
    "  explain(i)"
   ]
  },
  {
   "cell_type": "code",
   "execution_count": null,
   "metadata": {
    "scrolled": true
   },
   "outputs": [],
   "source": [
    "import numpy as np\n",
    "for i in np.random.choice(fn, 10):\n",
    "# for i in [51115, 152131, 155475, 90658, 114588]:\n",
    "  explain(i)"
   ]
  },
  {
   "cell_type": "markdown",
   "metadata": {},
   "source": [
    "##"
   ]
  },
  {
   "cell_type": "code",
   "execution_count": null,
   "metadata": {
    "scrolled": false
   },
   "outputs": [],
   "source": [
    "fp_len = [min(len(X_train[i]), 500) for i in fp]\n",
    "plt.hist(fp_len)"
   ]
  },
  {
   "cell_type": "markdown",
   "metadata": {},
   "source": [
    "## 실험"
   ]
  },
  {
   "cell_type": "code",
   "execution_count": 32,
   "metadata": {},
   "outputs": [],
   "source": [
    "import pickle"
   ]
  },
  {
   "cell_type": "code",
   "execution_count": 33,
   "metadata": {},
   "outputs": [
    {
     "name": "stdout",
     "output_type": "stream",
     "text": [
      "저장완료\n"
     ]
    }
   ],
   "source": [
    "with open('pipe_1.dat', 'wb') as fp :\n",
    "    pipe = make_pipeline(vectorizer, clf)\n",
    "    pickle.dump(pipe, fp)\n",
    "        \n",
    "print('저장완료')"
   ]
  },
  {
   "cell_type": "code",
   "execution_count": 2,
   "metadata": {},
   "outputs": [],
   "source": [
    "import numpy as np"
   ]
  },
  {
   "cell_type": "code",
   "execution_count": 34,
   "metadata": {},
   "outputs": [],
   "source": [
    "def using_model() :\n",
    "    # 객체를 복원한다.\n",
    "    \n",
    "    with open('pipe_1.dat', 'rb') as fp:\n",
    "        pipe = pickle.load(fp)\n",
    "\n",
    "    while True :\n",
    "        text = input('리뷰를 작성해주세요 :')\n",
    "\n",
    "        str = [text]\n",
    "        # 예측 정확도\n",
    "        r1 = np.max(pipe.predict_proba(str) * 100)\n",
    "        # 예측 결과\n",
    "        r2 = pipe.predict(str)[0]\n",
    "\n",
    "        if r2 == '1' :\n",
    "            print('긍정적인 리뷰')\n",
    "        else :\n",
    "            print('부정적인 리뷰')\n",
    "\n",
    "        print('정확도 : %.3f' % r1)"
   ]
  },
  {
   "cell_type": "code",
   "execution_count": 35,
   "metadata": {},
   "outputs": [],
   "source": [
    "def using() :\n",
    "    using_model()"
   ]
  },
  {
   "cell_type": "code",
   "execution_count": null,
   "metadata": {},
   "outputs": [
    {
     "name": "stdout",
     "output_type": "stream",
     "text": [
      "리뷰를 작성해주세요 :asdf\n",
      "부정적인 리뷰\n",
      "정확도 : 50.002\n"
     ]
    }
   ],
   "source": [
    "using()"
   ]
  },
  {
   "cell_type": "markdown",
   "metadata": {},
   "source": [
    "진행방향\n"
   ]
  }
 ],
 "metadata": {
  "kernelspec": {
   "display_name": "Python 3",
   "language": "python",
   "name": "python3"
  },
  "language_info": {
   "codemirror_mode": {
    "name": "ipython",
    "version": 3
   },
   "file_extension": ".py",
   "mimetype": "text/x-python",
   "name": "python",
   "nbconvert_exporter": "python",
   "pygments_lexer": "ipython3",
   "version": "3.7.3"
  }
 },
 "nbformat": 4,
 "nbformat_minor": 2
}
